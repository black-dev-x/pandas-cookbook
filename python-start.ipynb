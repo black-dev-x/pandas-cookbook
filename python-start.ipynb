{
 "metadata": {
  "language_info": {
   "codemirror_mode": {
    "name": "ipython",
    "version": 3
   },
   "file_extension": ".py",
   "mimetype": "text/x-python",
   "name": "python",
   "nbconvert_exporter": "python",
   "pygments_lexer": "ipython3",
   "version": "3.9.0-final"
  },
  "orig_nbformat": 2,
  "kernelspec": {
   "name": "python390jvsc74a57bd063fd5069d213b44bf678585dea6b12cceca9941eaf7f819626cde1f2670de90d",
   "display_name": "Python 3.9.0 64-bit"
  }
 },
 "nbformat": 4,
 "nbformat_minor": 2,
 "cells": [
  {
   "cell_type": "code",
   "execution_count": 14,
   "metadata": {},
   "outputs": [
    {
     "output_type": "execute_result",
     "data": {
      "text/plain": [
       "      Altura\n",
       "sexo        \n",
       "F        165\n",
       "M        170"
      ],
      "text/html": "<div>\n<style scoped>\n    .dataframe tbody tr th:only-of-type {\n        vertical-align: middle;\n    }\n\n    .dataframe tbody tr th {\n        vertical-align: top;\n    }\n\n    .dataframe thead th {\n        text-align: right;\n    }\n</style>\n<table border=\"1\" class=\"dataframe\">\n  <thead>\n    <tr style=\"text-align: right;\">\n      <th></th>\n      <th>Altura</th>\n    </tr>\n    <tr>\n      <th>sexo</th>\n      <th></th>\n    </tr>\n  </thead>\n  <tbody>\n    <tr>\n      <th>F</th>\n      <td>165</td>\n    </tr>\n    <tr>\n      <th>M</th>\n      <td>170</td>\n    </tr>\n  </tbody>\n</table>\n</div>"
     },
     "metadata": {},
     "execution_count": 14
    }
   ],
   "source": [
    "import pandas as pd\n",
    "data = {\n",
    "    'nome': ['Rafael', 'João', 'Maria','Lucas','Lúcia','Ana'], \n",
    "    'Altura': [175,165,160,180,165,170],\n",
    "    'sexo': ['M','M','F','M','F','F']\n",
    "    }\n",
    "df = pd.DataFrame(data)\n",
    "df[df.Altura < 180].groupby('sexo').mean()"
   ]
  },
  {
   "cell_type": "code",
   "execution_count": 15,
   "metadata": {},
   "outputs": [
    {
     "output_type": "execute_result",
     "data": {
      "text/plain": [
       "     nome  Altura sexo  salário\n",
       "0  Rafael     175    M     7000\n",
       "1    João     165    M     1000\n",
       "2   Maria     160    F     1200\n",
       "3   Lucas     180    M    15000\n",
       "4   Lúcia     165    F    11000\n",
       "5     Ana     170    F    12000"
      ],
      "text/html": "<div>\n<style scoped>\n    .dataframe tbody tr th:only-of-type {\n        vertical-align: middle;\n    }\n\n    .dataframe tbody tr th {\n        vertical-align: top;\n    }\n\n    .dataframe thead th {\n        text-align: right;\n    }\n</style>\n<table border=\"1\" class=\"dataframe\">\n  <thead>\n    <tr style=\"text-align: right;\">\n      <th></th>\n      <th>nome</th>\n      <th>Altura</th>\n      <th>sexo</th>\n      <th>salário</th>\n    </tr>\n  </thead>\n  <tbody>\n    <tr>\n      <th>0</th>\n      <td>Rafael</td>\n      <td>175</td>\n      <td>M</td>\n      <td>7000</td>\n    </tr>\n    <tr>\n      <th>1</th>\n      <td>João</td>\n      <td>165</td>\n      <td>M</td>\n      <td>1000</td>\n    </tr>\n    <tr>\n      <th>2</th>\n      <td>Maria</td>\n      <td>160</td>\n      <td>F</td>\n      <td>1200</td>\n    </tr>\n    <tr>\n      <th>3</th>\n      <td>Lucas</td>\n      <td>180</td>\n      <td>M</td>\n      <td>15000</td>\n    </tr>\n    <tr>\n      <th>4</th>\n      <td>Lúcia</td>\n      <td>165</td>\n      <td>F</td>\n      <td>11000</td>\n    </tr>\n    <tr>\n      <th>5</th>\n      <td>Ana</td>\n      <td>170</td>\n      <td>F</td>\n      <td>12000</td>\n    </tr>\n  </tbody>\n</table>\n</div>"
     },
     "metadata": {},
     "execution_count": 15
    }
   ],
   "source": [
    "pessoas = pd.DataFrame({'nome': ['Rafael', 'João', 'Maria','Lucas','Lúcia','Ana'], \n",
    "                        'Altura': [175,165,160,180,165,170],\n",
    "                        'sexo': ['M','M','F','M','F','F']})\n",
    "\n",
    "salarios = pd.DataFrame({'nome': ['João', 'Maria','Lucas','Lúcia','Ana','Rafael'], \n",
    "                        'salário': [1000,1200,15000,11000,12000,7000]})\n",
    "\n",
    "pessoas.join(salarios.set_index('nome'), on='nome')"
   ]
  },
  {
   "cell_type": "code",
   "execution_count": 26,
   "metadata": {},
   "outputs": [
    {
     "output_type": "execute_result",
     "data": {
      "text/plain": [
       "     nome  salários classe\n",
       "0    João      1000      C\n",
       "1   Maria      1200      C\n",
       "2   Lucas     15000      A\n",
       "3   Lúcia     11000      B\n",
       "4     Ana     12000      B\n",
       "5  Rafael      7000      C"
      ],
      "text/html": "<div>\n<style scoped>\n    .dataframe tbody tr th:only-of-type {\n        vertical-align: middle;\n    }\n\n    .dataframe tbody tr th {\n        vertical-align: top;\n    }\n\n    .dataframe thead th {\n        text-align: right;\n    }\n</style>\n<table border=\"1\" class=\"dataframe\">\n  <thead>\n    <tr style=\"text-align: right;\">\n      <th></th>\n      <th>nome</th>\n      <th>salários</th>\n      <th>classe</th>\n    </tr>\n  </thead>\n  <tbody>\n    <tr>\n      <th>0</th>\n      <td>João</td>\n      <td>1000</td>\n      <td>C</td>\n    </tr>\n    <tr>\n      <th>1</th>\n      <td>Maria</td>\n      <td>1200</td>\n      <td>C</td>\n    </tr>\n    <tr>\n      <th>2</th>\n      <td>Lucas</td>\n      <td>15000</td>\n      <td>A</td>\n    </tr>\n    <tr>\n      <th>3</th>\n      <td>Lúcia</td>\n      <td>11000</td>\n      <td>B</td>\n    </tr>\n    <tr>\n      <th>4</th>\n      <td>Ana</td>\n      <td>12000</td>\n      <td>B</td>\n    </tr>\n    <tr>\n      <th>5</th>\n      <td>Rafael</td>\n      <td>7000</td>\n      <td>C</td>\n    </tr>\n  </tbody>\n</table>\n</div>"
     },
     "metadata": {},
     "execution_count": 26
    }
   ],
   "source": [
    "salarios = pd.DataFrame({'nome': ['João', 'Maria','Lucas','Lúcia','Ana','Rafael'], \n",
    "                   'salários': [1000,1200,15000,11000,12000,7000]})\n",
    "salarios.loc[salarios.salários > 12000, 'classe'] = 'A'\n",
    "salarios.loc[(salarios.salários > 7000) & (salarios.salários <= 12000), 'classe'] = 'B'\n",
    "salarios.loc[salarios.salários <= 7000, 'classe'] = 'C'\n",
    "salarios\n"
   ]
  }
 ]
}