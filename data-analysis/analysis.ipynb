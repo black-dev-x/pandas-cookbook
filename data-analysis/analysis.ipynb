{
 "metadata": {
  "language_info": {
   "codemirror_mode": {
    "name": "ipython",
    "version": 3
   },
   "file_extension": ".py",
   "mimetype": "text/x-python",
   "name": "python",
   "nbconvert_exporter": "python",
   "pygments_lexer": "ipython3",
   "version": "3.9.0"
  },
  "orig_nbformat": 2,
  "kernelspec": {
   "name": "python390jvsc74a57bd063fd5069d213b44bf678585dea6b12cceca9941eaf7f819626cde1f2670de90d",
   "display_name": "Python 3.9.0 64-bit"
  }
 },
 "nbformat": 4,
 "nbformat_minor": 2,
 "cells": [
  {
   "cell_type": "code",
   "execution_count": null,
   "metadata": {},
   "outputs": [],
   "source": [
    "import pandas as pd"
   ]
  },
  {
   "cell_type": "code",
   "execution_count": null,
   "metadata": {},
   "outputs": [],
   "source": [
    "df_clients = pd.read_excel('case.xlsx', sheet_name='clients')\n",
    "df_stores = pd.read_excel('case.xlsx', sheet_name='stores')\n",
    "df_products = pd.read_excel('case.xlsx', sheet_name='products')\n",
    "df_sales = pd.read_excel('case.xlsx', sheet_name='sales')\n",
    "df_payments = pd.read_excel('case.xlsx', sheet_name='payments')"
   ]
  },
  {
   "source": [
    "# First Analysis"
   ],
   "cell_type": "markdown",
   "metadata": {}
  },
  {
   "cell_type": "code",
   "execution_count": null,
   "metadata": {},
   "outputs": [],
   "source": [
    "df_clients.sample(5)"
   ]
  },
  {
   "cell_type": "code",
   "execution_count": null,
   "metadata": {},
   "outputs": [],
   "source": [
    "df_clients.head(5)"
   ]
  },
  {
   "cell_type": "code",
   "execution_count": null,
   "metadata": {},
   "outputs": [],
   "source": [
    "df_clients.tail(5)"
   ]
  },
  {
   "cell_type": "code",
   "execution_count": null,
   "metadata": {},
   "outputs": [],
   "source": [
    "df_clients.isnull().sum()"
   ]
  },
  {
   "cell_type": "code",
   "execution_count": null,
   "metadata": {},
   "outputs": [],
   "source": [
    "df_clients[df_clients.isnull().T.any()]"
   ]
  },
  {
   "cell_type": "code",
   "execution_count": null,
   "metadata": {},
   "outputs": [],
   "source": [
    "df_clients.sex.unique()"
   ]
  },
  {
   "cell_type": "code",
   "execution_count": null,
   "metadata": {},
   "outputs": [],
   "source": [
    "df_products"
   ]
  },
  {
   "cell_type": "code",
   "execution_count": null,
   "metadata": {},
   "outputs": [],
   "source": [
    "df_products.boxplot(column=['value'])"
   ]
  },
  {
   "cell_type": "code",
   "execution_count": null,
   "metadata": {},
   "outputs": [],
   "source": [
    "df_products[df_products.value > 300000]"
   ]
  },
  {
   "cell_type": "code",
   "execution_count": null,
   "metadata": {},
   "outputs": [],
   "source": [
    "df_products[df_products.value < 300000].boxplot(column=['value'])"
   ]
  },
  {
   "cell_type": "code",
   "execution_count": null,
   "metadata": {},
   "outputs": [],
   "source": [
    "# discovering if that problematic product was sold\n",
    "df_sales[df_sales.id_product==10].count()"
   ]
  },
  {
   "cell_type": "code",
   "execution_count": null,
   "metadata": {},
   "outputs": [],
   "source": [
    "df_sales.isnull().sum()"
   ]
  },
  {
   "cell_type": "code",
   "execution_count": null,
   "metadata": {},
   "outputs": [],
   "source": [
    "df_sales.describe()"
   ]
  },
  {
   "cell_type": "code",
   "execution_count": null,
   "metadata": {},
   "outputs": [],
   "source": [
    "df_payments.isnull().sum()"
   ]
  },
  {
   "cell_type": "code",
   "execution_count": null,
   "metadata": {},
   "outputs": [],
   "source": [
    "df_payments.describe()"
   ]
  },
  {
   "source": [
    "# Data Cleaning"
   ],
   "cell_type": "markdown",
   "metadata": {}
  },
  {
   "source": [
    "## Null Data"
   ],
   "cell_type": "markdown",
   "metadata": {}
  },
  {
   "cell_type": "code",
   "execution_count": null,
   "metadata": {},
   "outputs": [],
   "source": [
    "df_clients[df_clients.name.isnull()]"
   ]
  },
  {
   "cell_type": "code",
   "execution_count": null,
   "metadata": {},
   "outputs": [],
   "source": [
    "df_clients[df_clients.birth_date.isnull()]"
   ]
  },
  {
   "cell_type": "code",
   "execution_count": null,
   "metadata": {},
   "outputs": [],
   "source": [
    "df_clients[df_clients.sex.isnull()]"
   ]
  },
  {
   "cell_type": "code",
   "execution_count": null,
   "metadata": {},
   "outputs": [],
   "source": [
    "df_clients.loc[df_clients.name.isnull(), 'name'] = 'No Name'\n",
    "df_clients.loc[df_clients.sex.isnull(), 'sex'] = 'O'\n",
    "df_clients.loc[df_clients.birth_date.isnull(), 'birth_date'] = '1/1/2020'"
   ]
  },
  {
   "cell_type": "code",
   "execution_count": null,
   "metadata": {},
   "outputs": [],
   "source": [
    "df_clients.loc[[269,287], :]"
   ]
  },
  {
   "cell_type": "code",
   "execution_count": null,
   "metadata": {},
   "outputs": [],
   "source": [
    "# Now we have no null datag\n",
    "df_clients.isnull().sum()"
   ]
  },
  {
   "source": [
    "## Outliers"
   ],
   "cell_type": "markdown",
   "metadata": {}
  },
  {
   "cell_type": "code",
   "execution_count": null,
   "metadata": {},
   "outputs": [],
   "source": [
    "df_products.loc[9,'value'] = df_products.value[9] / 10000\n",
    "df_products.boxplot(column=['value'])"
   ]
  },
  {
   "source": [
    "## Consistency"
   ],
   "cell_type": "markdown",
   "metadata": {}
  },
  {
   "cell_type": "code",
   "execution_count": null,
   "metadata": {},
   "outputs": [],
   "source": [
    "df_sales[~df_sales.id_cliente.isin(df_clients.id)]"
   ]
  },
  {
   "cell_type": "code",
   "execution_count": null,
   "metadata": {},
   "outputs": [],
   "source": [
    "df_sales[~df_sales.id_store.isin(df_stores.id)]"
   ]
  },
  {
   "cell_type": "code",
   "execution_count": null,
   "metadata": {},
   "outputs": [],
   "source": [
    "df_sales[~df_sales.id_product.isin(df_products.id)]"
   ]
  },
  {
   "cell_type": "code",
   "execution_count": null,
   "metadata": {},
   "outputs": [],
   "source": [
    "df_payments[~df_payments.id_sale.isin(df_sales.id)]"
   ]
  },
  {
   "cell_type": "code",
   "execution_count": null,
   "metadata": {},
   "outputs": [],
   "source": [
    "df_sales[~df_sales.id.isin(df_payments.id_sale)]"
   ]
  },
  {
   "source": [
    "## Duplicated Data"
   ],
   "cell_type": "markdown",
   "metadata": {}
  },
  {
   "cell_type": "code",
   "execution_count": null,
   "metadata": {},
   "outputs": [],
   "source": [
    "df_clients[df_clients.name.duplicated()]"
   ]
  },
  {
   "cell_type": "code",
   "execution_count": null,
   "metadata": {},
   "outputs": [],
   "source": [
    "df_clients.drop('id', axis=1).duplicated().sum()"
   ]
  },
  {
   "cell_type": "code",
   "execution_count": null,
   "metadata": {},
   "outputs": [],
   "source": [
    "df_stores.city.duplicated().sum()"
   ]
  },
  {
   "cell_type": "code",
   "execution_count": null,
   "metadata": {},
   "outputs": [],
   "source": [
    "df_products['product'].duplicated().sum()"
   ]
  },
  {
   "cell_type": "code",
   "execution_count": null,
   "metadata": {},
   "outputs": [],
   "source": [
    "df_sales[df_sales.drop('id', axis=1).duplicated()]"
   ]
  },
  {
   "cell_type": "code",
   "execution_count": null,
   "metadata": {},
   "outputs": [],
   "source": [
    "df_sales[(df_sales.id_cliente==559) & (df_sales.id_store==2) & (df_sales.id_product==5)]"
   ]
  },
  {
   "cell_type": "code",
   "execution_count": null,
   "metadata": {},
   "outputs": [],
   "source": [
    "df_payments.drop('id', axis=1).duplicated().sum()"
   ]
  },
  {
   "source": [
    "## Data Formatting"
   ],
   "cell_type": "markdown",
   "metadata": {}
  },
  {
   "cell_type": "code",
   "execution_count": null,
   "metadata": {},
   "outputs": [],
   "source": [
    "df_clients.birth_date = pd.to_datetime(df_clients.birth_date, format='%m/%d/%Y')\n",
    "df_clients.sample()"
   ]
  },
  {
   "cell_type": "code",
   "execution_count": null,
   "metadata": {},
   "outputs": [],
   "source": [
    "df_payments.sample()"
   ]
  },
  {
   "cell_type": "code",
   "execution_count": null,
   "metadata": {},
   "outputs": [],
   "source": [
    "df_products.sample()"
   ]
  },
  {
   "cell_type": "code",
   "execution_count": null,
   "metadata": {},
   "outputs": [],
   "source": [
    "df_stores.sample()"
   ]
  },
  {
   "source": [
    "## Indexes"
   ],
   "cell_type": "markdown",
   "metadata": {}
  },
  {
   "cell_type": "code",
   "execution_count": null,
   "metadata": {},
   "outputs": [],
   "source": [
    "df_clients = df_clients.set_index('id')\n",
    "df_stores = df_stores.set_index('id')\n",
    "df_payments = df_payments.set_index('id')\n",
    "df_products = df_products.set_index('id')\n",
    "df_sales = df_sales.set_index('id')"
   ]
  },
  {
   "source": [
    "# Data Fusion"
   ],
   "cell_type": "markdown",
   "metadata": {}
  },
  {
   "cell_type": "code",
   "execution_count": null,
   "metadata": {},
   "outputs": [],
   "source": [
    "df = df_sales.join(df_clients.add_prefix('client_'), on='id_cliente')\n",
    "df = df.join(df_stores.add_prefix('store_'), on='id_store')\n",
    "df = df.join(df_products.add_prefix('product_'), on='id_product')\n",
    "df.sample()"
   ]
  },
  {
   "cell_type": "code",
   "execution_count": null,
   "metadata": {},
   "outputs": [],
   "source": [
    "df = df.join(df_payments.set_index('id_sale'))\n",
    "df.sample()"
   ]
  },
  {
   "cell_type": "code",
   "execution_count": null,
   "metadata": {},
   "outputs": [],
   "source": [
    "df.isnull().sum()"
   ]
  },
  {
   "source": [
    "# Feature Engineering"
   ],
   "cell_type": "markdown",
   "metadata": {}
  },
  {
   "cell_type": "code",
   "execution_count": null,
   "metadata": {},
   "outputs": [],
   "source": [
    "df['paid'] = 1\n",
    "df.loc[df.dt_payment.isnull(), 'paid'] = 0\n",
    "df"
   ]
  },
  {
   "cell_type": "code",
   "execution_count": null,
   "metadata": {},
   "outputs": [],
   "source": [
    "df['days_to_pay'] = (df.dt_payment - df.dt_sale).dt.days\n",
    "df"
   ]
  },
  {
   "cell_type": "code",
   "execution_count": null,
   "metadata": {},
   "outputs": [],
   "source": [
    "import numpy as np\n",
    "df['client_age'] = np.floor((pd.to_datetime('today') - df.client_birth_date)/np.timedelta64(1, 'Y'))\n",
    "df"
   ]
  },
  {
   "source": [
    "# Analysis"
   ],
   "cell_type": "markdown",
   "metadata": {}
  },
  {
   "cell_type": "code",
   "execution_count": null,
   "metadata": {},
   "outputs": [],
   "source": [
    "graph_data = df.groupby('store_city').count().product_value.sort_values(ascending=False)"
   ]
  },
  {
   "cell_type": "code",
   "execution_count": null,
   "metadata": {},
   "outputs": [],
   "source": [
    "import matplotlib.pyplot as plt\n",
    "plt.figure(figsize=(15,5))\n",
    "plt.bar(graph_data.index, graph_data.values)\n",
    "plt.title('vendas por loja')"
   ]
  },
  {
   "source": [
    "## Most sold products"
   ],
   "cell_type": "markdown",
   "metadata": {}
  },
  {
   "cell_type": "code",
   "execution_count": null,
   "metadata": {},
   "outputs": [],
   "source": [
    "graph_product_sold = df.groupby('product_product').count().product_value.sort_values(ascending=False)\n",
    "graph_product_sold"
   ]
  },
  {
   "cell_type": "code",
   "execution_count": null,
   "metadata": {},
   "outputs": [],
   "source": [
    "plt.figure(figsize=(15,5))\n",
    "plt.bar(graph_product_sold.index, graph_product_sold.values)\n",
    "plt.title('Sales by Product')"
   ]
  },
  {
   "source": [
    "## Store Analysis"
   ],
   "cell_type": "markdown",
   "metadata": {}
  },
  {
   "cell_type": "code",
   "execution_count": null,
   "metadata": {},
   "outputs": [],
   "source": [
    "# These are the same, but I prefer the sort using the by, it seems clearer, but the first one leaves us a series, and the second one a dataframe...\n",
    "df[['store_city','product_value']].groupby('store_city').sum().product_value.sort_values(ascending=False)\n",
    "df[['store_city','product_value']].groupby('store_city').sum().sort_values(ascending=False, by=\"product_value\")"
   ]
  },
  {
   "cell_type": "code",
   "execution_count": null,
   "metadata": {},
   "outputs": [],
   "source": [
    "graph_data = df[['store_city','product_value']].groupby('store_city').sum().product_value.sort_values(ascending=False)\n",
    "plt.figure(figsize=(15,5))\n",
    "plt.title('Total amount of potential cash income by store')\n",
    "plt.bar(graph_data.index, graph_data.values)"
   ]
  },
  {
   "cell_type": "code",
   "execution_count": null,
   "metadata": {},
   "outputs": [],
   "source": [
    "max_value = graph_data.max()\n",
    "others_mean = graph_data[graph_data!=graph_data.max()].mean()\n",
    "times_greater_than_mean = graph_data.max()/others_mean\n",
    "print('The max value is %i, and it is %.2f times greater than the mean of the other values, which is %i' % (max_value, times_greater_than_mean, others_mean))"
   ]
  },
  {
   "cell_type": "code",
   "execution_count": null,
   "metadata": {},
   "outputs": [],
   "source": [
    "graph_data = df[['product_product', 'product_value']].groupby('product_product').sum().product_value.sort_values(ascending=False)\n",
    "plt.figure(figsize=(15,5))\n",
    "plt.title('Total amount of potential cash income by product')\n",
    "plt.bar(graph_data.index, graph_data.values)"
   ]
  },
  {
   "source": [
    "# Subplots"
   ],
   "cell_type": "markdown",
   "metadata": {}
  },
  {
   "source": [
    "plt.figure(figsize=(10,7))\n",
    "\n",
    "plt.subplot(2,2,1)\n",
    "sales_by_store_data = df.groupby('store_city').count().product_value.sort_values(ascending=False)\n",
    "plt.bar(sales_by_store_data.index, sales_by_store_data.values)\n",
    "plt.xticks(rotation=90)\n",
    "plt.title('Sales By Store')\n",
    "\n",
    "plt.subplot(2,2,2)\n",
    "product_amount_sales = df.groupby('product_product').count().product_value.sort_values(ascending=False)\n",
    "plt.bar(product_amount_sales.index, product_amount_sales.values)\n",
    "plt.xticks(rotation=90)\n",
    "plt.title('Quantity of Product Sales')\n",
    "\n",
    "plt.subplot(2,2,3)\n",
    "income_by_store_data = df.groupby('store_city').sum().product_value.sort_values(ascending=False)\n",
    "plt.bar(income_by_store_data.index, income_by_store_data.values)\n",
    "plt.xticks(rotation=90)\n",
    "plt.title('Income by Store')\n",
    "\n",
    "plt.subplot(2,2,4)\n",
    "income_by_product_data = df.groupby('product_product').sum().product_value.sort_values(ascending=False)\n",
    "plt.bar(income_by_product_data.index, income_by_product_data.values)\n",
    "plt.xticks(rotation=90)\n",
    "plt.title('Income by Product')\n",
    "\n",
    "plt.tight_layout()\n"
   ],
   "cell_type": "code",
   "metadata": {},
   "execution_count": null,
   "outputs": []
  },
  {
   "source": [
    "## Sales by Client"
   ],
   "cell_type": "markdown",
   "metadata": {}
  },
  {
   "cell_type": "code",
   "execution_count": null,
   "metadata": {},
   "outputs": [],
   "source": [
    "sales_by_client_data = df[['client_name','product_value']].groupby('client_name').sum().product_value.sort_values(ascending=False)\n",
    "print(sales_by_client_data)"
   ]
  },
  {
   "cell_type": "code",
   "execution_count": null,
   "metadata": {},
   "outputs": [],
   "source": [
    "plt.figure(figsize=(15,5))\n",
    "plt.plot(sales_by_client_data.index, sales_by_client_data.values)\n",
    "frame = plt.gca().axes.get_xaxis().set_visible(False)\n",
    "plt.title('Sales by Client')"
   ]
  },
  {
   "cell_type": "code",
   "execution_count": null,
   "metadata": {},
   "outputs": [],
   "source": [
    "from matplotlib.ticker import PercentFormatter\n",
    "\n",
    "figure, axis = plt.subplots(figsize=(15,5))\n",
    "axis.plot(sales_by_client_data.index, sales_by_client_data.values, color='C0')\n",
    "second_axis = axis.twinx()\n",
    "second_axis.plot(sales_by_client_data.index, sales_by_client_data.values.cumsum()/sales_by_client_data.values.sum()*100, color='C1')\n",
    "second_axis.yaxis.set_major_formatter(PercentFormatter())\n",
    "second_axis.axes.get_xaxis().set_visible(False)\n",
    "axis.axes.get_xaxis().set_visible(False)\n",
    "plt.title('Sales By Client')"
   ]
  },
  {
   "cell_type": "code",
   "execution_count": null,
   "metadata": {},
   "outputs": [],
   "source": [
    "sales_by_client_cumulative_total = sales_by_client_data.cumsum() / sales_by_client_data.sum()\n",
    "print(sales_by_client_cumulative_total)"
   ]
  },
  {
   "cell_type": "code",
   "execution_count": null,
   "metadata": {},
   "outputs": [],
   "source": [
    "sales_by_client_cumulative_total[sales_by_client_cumulative_total < 0.60].count() / sales_by_client_cumulative_total.count()\n",
    "## 31 percent of our clients are responsible for 60 percent of our sales"
   ]
  },
  {
   "source": [
    "## Pareto's Analysis"
   ],
   "cell_type": "markdown",
   "metadata": {}
  },
  {
   "cell_type": "code",
   "execution_count": null,
   "metadata": {},
   "outputs": [],
   "source": [
    "income_by_product_data = df[['product_product','product_value']].groupby('product_product').sum().product_value.sort_values(ascending=False)\n",
    "figure, axis = plt.subplots(figsize=(15,5))\n",
    "\n",
    "axis.bar(income_by_product_data.index, income_by_product_data.values, color='C0')\n",
    "second_axis = axis.twinx()\n",
    "second_axis.plot(income_by_product_data.index, income_by_product_data.values.cumsum() / income_by_product_data.values.sum() * 100, color='C1', marker='D')\n",
    "second_axis.yaxis.set_major_formatter(PercentFormatter())\n",
    "plt.ylim(0,110)\n",
    "plt.title(\"Pareto's Graph - Income by Product\")"
   ]
  },
  {
   "source": [
    "## Sales by product and store"
   ],
   "cell_type": "markdown",
   "metadata": {}
  },
  {
   "cell_type": "code",
   "execution_count": null,
   "metadata": {},
   "outputs": [],
   "source": [
    "product_store_income_data = pd.DataFrame(columns=('store','product','income'))\n",
    "for city in df_stores.city:\n",
    "    for product in df_products['product']:\n",
    "        new_data = {\n",
    "            'store': city,\n",
    "            'product': product ,\n",
    "            'income': df.product_value[ (df.store_city == city) & (df.product_product == product) ].sum()\n",
    "        }\n",
    "        product_store_income_data = product_store_income_data.append(new_data, ignore_index=True)\n",
    "print(product_store_income_data)\n",
    "\n",
    "import seaborn as sns\n",
    "\n",
    "data = product_store_income_data.pivot_table(index='store', columns='product', values='income', aggfunc='sum')\n",
    "sns.heatmap(data)"
   ]
  },
  {
   "source": [
    "product_store_income_data = product_store_income_data.sort_values(by='income', ascending=False)\n",
    "product_store_income_data['store-product'] = product_store_income_data['store'] + '-' + product_store_income_data['product'] \n",
    "filter_product_income = product_store_income_data.income > 0.01 * product_store_income_data.income.max()\n",
    "plt.figure(figsize=(15,5))\n",
    "plt.xticks(rotation=90)\n",
    "plt.title('Income by Product')\n",
    "plt.bar(product_store_income_data['store-product'][filter_product_income], product_store_income_data.income[filter_product_income])\n",
    "plt.show()\n"
   ],
   "cell_type": "code",
   "metadata": {},
   "execution_count": null,
   "outputs": []
  },
  {
   "source": [
    "## Time Analysis"
   ],
   "cell_type": "markdown",
   "metadata": {}
  },
  {
   "cell_type": "code",
   "execution_count": null,
   "metadata": {},
   "outputs": [],
   "source": [
    "df.days_to_pay.mean()"
   ]
  },
  {
   "cell_type": "code",
   "execution_count": null,
   "metadata": {},
   "outputs": [],
   "source": [
    "df.boxplot('days_to_pay')\n",
    "plt.title('Boxplot for time between sale and payment')"
   ]
  },
  {
   "cell_type": "code",
   "execution_count": null,
   "metadata": {},
   "outputs": [],
   "source": [
    "sns.histplot(data=df.days_to_pay, kde=True)\n",
    "plt.title('Histogram for time between sale and payment')"
   ]
  },
  {
   "cell_type": "code",
   "execution_count": null,
   "metadata": {},
   "outputs": [],
   "source": [
    "df.days_to_pay.describe()"
   ]
  },
  {
   "source": [
    "## Payment time - Product and Store"
   ],
   "cell_type": "markdown",
   "metadata": {}
  },
  {
   "cell_type": "code",
   "execution_count": null,
   "metadata": {},
   "outputs": [],
   "source": [
    "df.groupby('store_city').mean().days_to_pay"
   ]
  },
  {
   "cell_type": "code",
   "execution_count": null,
   "metadata": {},
   "outputs": [],
   "source": [
    "plt.figure(figsize=(7,4))\n",
    "plt.title('Boxplot - payment date by city')\n",
    "df[['store_city','days_to_pay']].groupby('store_city').boxplot('days_to_pay')\n",
    "plt.xticks(rotation=90)\n",
    "plt.show()"
   ]
  },
  {
   "cell_type": "code",
   "execution_count": null,
   "metadata": {},
   "outputs": [],
   "source": [
    "df.groupby('product_product').days_to_pay.mean()"
   ]
  },
  {
   "cell_type": "code",
   "execution_count": null,
   "metadata": {},
   "outputs": [],
   "source": [
    "plt.figure(figsize=(7,4))\n",
    "df[['product_product','days_to_pay']].groupby('product_product').boxplot('days_to_pay')\n",
    "plt.title('Boxplot for time to pay between products ')\n",
    "plt.xticks(rotation=90)\n",
    "plt.show()"
   ]
  },
  {
   "cell_type": "code",
   "execution_count": null,
   "metadata": {},
   "outputs": [],
   "source": []
  }
 ]
}