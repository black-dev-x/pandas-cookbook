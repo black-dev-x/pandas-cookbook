{
 "metadata": {
  "language_info": {
   "codemirror_mode": {
    "name": "ipython",
    "version": 3
   },
   "file_extension": ".py",
   "mimetype": "text/x-python",
   "name": "python",
   "nbconvert_exporter": "python",
   "pygments_lexer": "ipython3",
   "version": "3.9.0-final"
  },
  "orig_nbformat": 2,
  "kernelspec": {
   "name": "python390jvsc74a57bd063fd5069d213b44bf678585dea6b12cceca9941eaf7f819626cde1f2670de90d",
   "display_name": "Python 3.9.0 64-bit"
  }
 },
 "nbformat": 4,
 "nbformat_minor": 2,
 "cells": [
  {
   "cell_type": "code",
   "execution_count": 1,
   "metadata": {},
   "outputs": [],
   "source": [
    "import pandas as pd"
   ]
  },
  {
   "cell_type": "code",
   "execution_count": 5,
   "metadata": {},
   "outputs": [],
   "source": [
    "df_clients = pd.read_excel('case.xlsx', sheet_name='clients')\n",
    "df_stores = pd.read_excel('case.xlsx', sheet_name='stores')\n",
    "df_products = pd.read_excel('case.xlsx', sheet_name='products')\n",
    "df_sales = pd.read_excel('case.xlsx', sheet_name='sales')\n",
    "df_payments = pd.read_excel('case.xlsx', sheet_name='payments')"
   ]
  },
  {
   "cell_type": "code",
   "execution_count": 6,
   "metadata": {},
   "outputs": [
    {
     "output_type": "execute_result",
     "data": {
      "text/plain": [
       "       id               name sex  birth_date\n",
       "0       1      Lavinia Sousa   F    5/2/1975\n",
       "1       2       Caio Pereira   M   4/16/1978\n",
       "2       3      Júlio Azevedo   M   11/4/1952\n",
       "3       4    Sarah Goncalves   F   2/24/1937\n",
       "4       5  Gabrielle Martins   F    5/6/1953\n",
       "..    ...                ...  ..         ...\n",
       "995   996     Ágatha Ribeiro   F    2/8/1946\n",
       "996   997     Laura Oliveira   F   6/15/1979\n",
       "997   998      Lara Oliveira   F   3/15/1946\n",
       "998   999       Julian Cunha   M   6/20/1994\n",
       "999  1000    Gustavo Barbosa   M  12/30/1975\n",
       "\n",
       "[1000 rows x 4 columns]"
      ],
      "text/html": "<div>\n<style scoped>\n    .dataframe tbody tr th:only-of-type {\n        vertical-align: middle;\n    }\n\n    .dataframe tbody tr th {\n        vertical-align: top;\n    }\n\n    .dataframe thead th {\n        text-align: right;\n    }\n</style>\n<table border=\"1\" class=\"dataframe\">\n  <thead>\n    <tr style=\"text-align: right;\">\n      <th></th>\n      <th>id</th>\n      <th>name</th>\n      <th>sex</th>\n      <th>birth_date</th>\n    </tr>\n  </thead>\n  <tbody>\n    <tr>\n      <th>0</th>\n      <td>1</td>\n      <td>Lavinia Sousa</td>\n      <td>F</td>\n      <td>5/2/1975</td>\n    </tr>\n    <tr>\n      <th>1</th>\n      <td>2</td>\n      <td>Caio Pereira</td>\n      <td>M</td>\n      <td>4/16/1978</td>\n    </tr>\n    <tr>\n      <th>2</th>\n      <td>3</td>\n      <td>Júlio Azevedo</td>\n      <td>M</td>\n      <td>11/4/1952</td>\n    </tr>\n    <tr>\n      <th>3</th>\n      <td>4</td>\n      <td>Sarah Goncalves</td>\n      <td>F</td>\n      <td>2/24/1937</td>\n    </tr>\n    <tr>\n      <th>4</th>\n      <td>5</td>\n      <td>Gabrielle Martins</td>\n      <td>F</td>\n      <td>5/6/1953</td>\n    </tr>\n    <tr>\n      <th>...</th>\n      <td>...</td>\n      <td>...</td>\n      <td>...</td>\n      <td>...</td>\n    </tr>\n    <tr>\n      <th>995</th>\n      <td>996</td>\n      <td>Ágatha Ribeiro</td>\n      <td>F</td>\n      <td>2/8/1946</td>\n    </tr>\n    <tr>\n      <th>996</th>\n      <td>997</td>\n      <td>Laura Oliveira</td>\n      <td>F</td>\n      <td>6/15/1979</td>\n    </tr>\n    <tr>\n      <th>997</th>\n      <td>998</td>\n      <td>Lara Oliveira</td>\n      <td>F</td>\n      <td>3/15/1946</td>\n    </tr>\n    <tr>\n      <th>998</th>\n      <td>999</td>\n      <td>Julian Cunha</td>\n      <td>M</td>\n      <td>6/20/1994</td>\n    </tr>\n    <tr>\n      <th>999</th>\n      <td>1000</td>\n      <td>Gustavo Barbosa</td>\n      <td>M</td>\n      <td>12/30/1975</td>\n    </tr>\n  </tbody>\n</table>\n<p>1000 rows × 4 columns</p>\n</div>"
     },
     "metadata": {},
     "execution_count": 6
    }
   ],
   "source": [
    "df_clients"
   ]
  },
  {
   "cell_type": "code",
   "execution_count": 7,
   "metadata": {},
   "outputs": [
    {
     "output_type": "execute_result",
     "data": {
      "text/plain": [
       "   id            city\n",
       "0   1       São Paulo\n",
       "1   2  Rio de Janeiro\n",
       "2   3        Curitiba\n",
       "3   4  Belo Horizonte\n",
       "4   5  Santa Catarina\n",
       "5   6          Recife\n",
       "6   7        Salvador\n",
       "7   8        Brasília\n",
       "8   9          Palmas\n",
       "9  10         Vitória"
      ],
      "text/html": "<div>\n<style scoped>\n    .dataframe tbody tr th:only-of-type {\n        vertical-align: middle;\n    }\n\n    .dataframe tbody tr th {\n        vertical-align: top;\n    }\n\n    .dataframe thead th {\n        text-align: right;\n    }\n</style>\n<table border=\"1\" class=\"dataframe\">\n  <thead>\n    <tr style=\"text-align: right;\">\n      <th></th>\n      <th>id</th>\n      <th>city</th>\n    </tr>\n  </thead>\n  <tbody>\n    <tr>\n      <th>0</th>\n      <td>1</td>\n      <td>São Paulo</td>\n    </tr>\n    <tr>\n      <th>1</th>\n      <td>2</td>\n      <td>Rio de Janeiro</td>\n    </tr>\n    <tr>\n      <th>2</th>\n      <td>3</td>\n      <td>Curitiba</td>\n    </tr>\n    <tr>\n      <th>3</th>\n      <td>4</td>\n      <td>Belo Horizonte</td>\n    </tr>\n    <tr>\n      <th>4</th>\n      <td>5</td>\n      <td>Santa Catarina</td>\n    </tr>\n    <tr>\n      <th>5</th>\n      <td>6</td>\n      <td>Recife</td>\n    </tr>\n    <tr>\n      <th>6</th>\n      <td>7</td>\n      <td>Salvador</td>\n    </tr>\n    <tr>\n      <th>7</th>\n      <td>8</td>\n      <td>Brasília</td>\n    </tr>\n    <tr>\n      <th>8</th>\n      <td>9</td>\n      <td>Palmas</td>\n    </tr>\n    <tr>\n      <th>9</th>\n      <td>10</td>\n      <td>Vitória</td>\n    </tr>\n  </tbody>\n</table>\n</div>"
     },
     "metadata": {},
     "execution_count": 7
    }
   ],
   "source": [
    "df_stores"
   ]
  },
  {
   "cell_type": "code",
   "execution_count": 8,
   "metadata": {},
   "outputs": [
    {
     "output_type": "execute_result",
     "data": {
      "text/plain": [
       "   id        product      value\n",
       "0   1          mouse       20.0\n",
       "1   2        teclado       30.0\n",
       "2   3  laptop básico     2300.0\n",
       "3   4   laptop gamer     5300.0\n",
       "4   5        monitor     1500.0\n",
       "5   6     impressora      700.0\n",
       "6   7     carregador      150.0\n",
       "7   8        cadeira      540.0\n",
       "8   9           mesa      860.0\n",
       "9  10       xxx-231a  3211352.0"
      ],
      "text/html": "<div>\n<style scoped>\n    .dataframe tbody tr th:only-of-type {\n        vertical-align: middle;\n    }\n\n    .dataframe tbody tr th {\n        vertical-align: top;\n    }\n\n    .dataframe thead th {\n        text-align: right;\n    }\n</style>\n<table border=\"1\" class=\"dataframe\">\n  <thead>\n    <tr style=\"text-align: right;\">\n      <th></th>\n      <th>id</th>\n      <th>product</th>\n      <th>value</th>\n    </tr>\n  </thead>\n  <tbody>\n    <tr>\n      <th>0</th>\n      <td>1</td>\n      <td>mouse</td>\n      <td>20.0</td>\n    </tr>\n    <tr>\n      <th>1</th>\n      <td>2</td>\n      <td>teclado</td>\n      <td>30.0</td>\n    </tr>\n    <tr>\n      <th>2</th>\n      <td>3</td>\n      <td>laptop básico</td>\n      <td>2300.0</td>\n    </tr>\n    <tr>\n      <th>3</th>\n      <td>4</td>\n      <td>laptop gamer</td>\n      <td>5300.0</td>\n    </tr>\n    <tr>\n      <th>4</th>\n      <td>5</td>\n      <td>monitor</td>\n      <td>1500.0</td>\n    </tr>\n    <tr>\n      <th>5</th>\n      <td>6</td>\n      <td>impressora</td>\n      <td>700.0</td>\n    </tr>\n    <tr>\n      <th>6</th>\n      <td>7</td>\n      <td>carregador</td>\n      <td>150.0</td>\n    </tr>\n    <tr>\n      <th>7</th>\n      <td>8</td>\n      <td>cadeira</td>\n      <td>540.0</td>\n    </tr>\n    <tr>\n      <th>8</th>\n      <td>9</td>\n      <td>mesa</td>\n      <td>860.0</td>\n    </tr>\n    <tr>\n      <th>9</th>\n      <td>10</td>\n      <td>xxx-231a</td>\n      <td>3211352.0</td>\n    </tr>\n  </tbody>\n</table>\n</div>"
     },
     "metadata": {},
     "execution_count": 8
    }
   ],
   "source": [
    "df_products"
   ]
  },
  {
   "cell_type": "code",
   "execution_count": 9,
   "metadata": {},
   "outputs": [
    {
     "output_type": "execute_result",
     "data": {
      "text/plain": [
       "        id  id_cliente  id_store  id_product    dt_sale\n",
       "0        1         393         9           3 2018-01-04\n",
       "1        2         417         9           3 2018-01-04\n",
       "2        3         374         7           8 2018-01-04\n",
       "3        4          59         4           3 2018-01-05\n",
       "4        5          18         9           1 2018-01-05\n",
       "...    ...         ...       ...         ...        ...\n",
       "2995  2996         671         3           7 2020-09-27\n",
       "2996  2997         586         8           3 2020-09-27\n",
       "2997  2998         731         2           4 2020-09-27\n",
       "2998  2999         163         2           1 2020-09-27\n",
       "2999  3000         770         2           2 2020-09-27\n",
       "\n",
       "[3000 rows x 5 columns]"
      ],
      "text/html": "<div>\n<style scoped>\n    .dataframe tbody tr th:only-of-type {\n        vertical-align: middle;\n    }\n\n    .dataframe tbody tr th {\n        vertical-align: top;\n    }\n\n    .dataframe thead th {\n        text-align: right;\n    }\n</style>\n<table border=\"1\" class=\"dataframe\">\n  <thead>\n    <tr style=\"text-align: right;\">\n      <th></th>\n      <th>id</th>\n      <th>id_cliente</th>\n      <th>id_store</th>\n      <th>id_product</th>\n      <th>dt_sale</th>\n    </tr>\n  </thead>\n  <tbody>\n    <tr>\n      <th>0</th>\n      <td>1</td>\n      <td>393</td>\n      <td>9</td>\n      <td>3</td>\n      <td>2018-01-04</td>\n    </tr>\n    <tr>\n      <th>1</th>\n      <td>2</td>\n      <td>417</td>\n      <td>9</td>\n      <td>3</td>\n      <td>2018-01-04</td>\n    </tr>\n    <tr>\n      <th>2</th>\n      <td>3</td>\n      <td>374</td>\n      <td>7</td>\n      <td>8</td>\n      <td>2018-01-04</td>\n    </tr>\n    <tr>\n      <th>3</th>\n      <td>4</td>\n      <td>59</td>\n      <td>4</td>\n      <td>3</td>\n      <td>2018-01-05</td>\n    </tr>\n    <tr>\n      <th>4</th>\n      <td>5</td>\n      <td>18</td>\n      <td>9</td>\n      <td>1</td>\n      <td>2018-01-05</td>\n    </tr>\n    <tr>\n      <th>...</th>\n      <td>...</td>\n      <td>...</td>\n      <td>...</td>\n      <td>...</td>\n      <td>...</td>\n    </tr>\n    <tr>\n      <th>2995</th>\n      <td>2996</td>\n      <td>671</td>\n      <td>3</td>\n      <td>7</td>\n      <td>2020-09-27</td>\n    </tr>\n    <tr>\n      <th>2996</th>\n      <td>2997</td>\n      <td>586</td>\n      <td>8</td>\n      <td>3</td>\n      <td>2020-09-27</td>\n    </tr>\n    <tr>\n      <th>2997</th>\n      <td>2998</td>\n      <td>731</td>\n      <td>2</td>\n      <td>4</td>\n      <td>2020-09-27</td>\n    </tr>\n    <tr>\n      <th>2998</th>\n      <td>2999</td>\n      <td>163</td>\n      <td>2</td>\n      <td>1</td>\n      <td>2020-09-27</td>\n    </tr>\n    <tr>\n      <th>2999</th>\n      <td>3000</td>\n      <td>770</td>\n      <td>2</td>\n      <td>2</td>\n      <td>2020-09-27</td>\n    </tr>\n  </tbody>\n</table>\n<p>3000 rows × 5 columns</p>\n</div>"
     },
     "metadata": {},
     "execution_count": 9
    }
   ],
   "source": [
    "df_sales"
   ]
  },
  {
   "cell_type": "code",
   "execution_count": 10,
   "metadata": {},
   "outputs": [
    {
     "output_type": "execute_result",
     "data": {
      "text/plain": [
       "        id  id_sale dt_payment\n",
       "0        1        1 2018-01-24\n",
       "1        2        2 2018-02-17\n",
       "2        3        3 2018-02-14\n",
       "3        4        5 2018-01-23\n",
       "4        5        7 2018-02-15\n",
       "...    ...      ...        ...\n",
       "2067  2068     2990 2020-10-04\n",
       "2068  2069     2992 2020-10-10\n",
       "2069  2070     2994 2020-10-09\n",
       "2070  2071     2996 2020-10-17\n",
       "2071  2072     2997 2020-10-02\n",
       "\n",
       "[2072 rows x 3 columns]"
      ],
      "text/html": "<div>\n<style scoped>\n    .dataframe tbody tr th:only-of-type {\n        vertical-align: middle;\n    }\n\n    .dataframe tbody tr th {\n        vertical-align: top;\n    }\n\n    .dataframe thead th {\n        text-align: right;\n    }\n</style>\n<table border=\"1\" class=\"dataframe\">\n  <thead>\n    <tr style=\"text-align: right;\">\n      <th></th>\n      <th>id</th>\n      <th>id_sale</th>\n      <th>dt_payment</th>\n    </tr>\n  </thead>\n  <tbody>\n    <tr>\n      <th>0</th>\n      <td>1</td>\n      <td>1</td>\n      <td>2018-01-24</td>\n    </tr>\n    <tr>\n      <th>1</th>\n      <td>2</td>\n      <td>2</td>\n      <td>2018-02-17</td>\n    </tr>\n    <tr>\n      <th>2</th>\n      <td>3</td>\n      <td>3</td>\n      <td>2018-02-14</td>\n    </tr>\n    <tr>\n      <th>3</th>\n      <td>4</td>\n      <td>5</td>\n      <td>2018-01-23</td>\n    </tr>\n    <tr>\n      <th>4</th>\n      <td>5</td>\n      <td>7</td>\n      <td>2018-02-15</td>\n    </tr>\n    <tr>\n      <th>...</th>\n      <td>...</td>\n      <td>...</td>\n      <td>...</td>\n    </tr>\n    <tr>\n      <th>2067</th>\n      <td>2068</td>\n      <td>2990</td>\n      <td>2020-10-04</td>\n    </tr>\n    <tr>\n      <th>2068</th>\n      <td>2069</td>\n      <td>2992</td>\n      <td>2020-10-10</td>\n    </tr>\n    <tr>\n      <th>2069</th>\n      <td>2070</td>\n      <td>2994</td>\n      <td>2020-10-09</td>\n    </tr>\n    <tr>\n      <th>2070</th>\n      <td>2071</td>\n      <td>2996</td>\n      <td>2020-10-17</td>\n    </tr>\n    <tr>\n      <th>2071</th>\n      <td>2072</td>\n      <td>2997</td>\n      <td>2020-10-02</td>\n    </tr>\n  </tbody>\n</table>\n<p>2072 rows × 3 columns</p>\n</div>"
     },
     "metadata": {},
     "execution_count": 10
    }
   ],
   "source": [
    "df_payments"
   ]
  },
  {
   "cell_type": "code",
   "execution_count": 13,
   "metadata": {},
   "outputs": [
    {
     "output_type": "execute_result",
     "data": {
      "text/plain": [
       "       id               name sex  birth_date\n",
       "0       1      Lavinia Sousa   F    5/2/1975\n",
       "1       2       Caio Pereira   M   4/16/1978\n",
       "2       3      Júlio Azevedo   M   11/4/1952\n",
       "3       4    Sarah Goncalves   F   2/24/1937\n",
       "4       5  Gabrielle Martins   F    5/6/1953\n",
       "..    ...                ...  ..         ...\n",
       "995   996     Ágatha Ribeiro   F    2/8/1946\n",
       "996   997     Laura Oliveira   F   6/15/1979\n",
       "997   998      Lara Oliveira   F   3/15/1946\n",
       "998   999       Julian Cunha   M   6/20/1994\n",
       "999  1000    Gustavo Barbosa   M  12/30/1975\n",
       "\n",
       "[1000 rows x 4 columns]"
      ],
      "text/html": "<div>\n<style scoped>\n    .dataframe tbody tr th:only-of-type {\n        vertical-align: middle;\n    }\n\n    .dataframe tbody tr th {\n        vertical-align: top;\n    }\n\n    .dataframe thead th {\n        text-align: right;\n    }\n</style>\n<table border=\"1\" class=\"dataframe\">\n  <thead>\n    <tr style=\"text-align: right;\">\n      <th></th>\n      <th>id</th>\n      <th>name</th>\n      <th>sex</th>\n      <th>birth_date</th>\n    </tr>\n  </thead>\n  <tbody>\n    <tr>\n      <th>0</th>\n      <td>1</td>\n      <td>Lavinia Sousa</td>\n      <td>F</td>\n      <td>5/2/1975</td>\n    </tr>\n    <tr>\n      <th>1</th>\n      <td>2</td>\n      <td>Caio Pereira</td>\n      <td>M</td>\n      <td>4/16/1978</td>\n    </tr>\n    <tr>\n      <th>2</th>\n      <td>3</td>\n      <td>Júlio Azevedo</td>\n      <td>M</td>\n      <td>11/4/1952</td>\n    </tr>\n    <tr>\n      <th>3</th>\n      <td>4</td>\n      <td>Sarah Goncalves</td>\n      <td>F</td>\n      <td>2/24/1937</td>\n    </tr>\n    <tr>\n      <th>4</th>\n      <td>5</td>\n      <td>Gabrielle Martins</td>\n      <td>F</td>\n      <td>5/6/1953</td>\n    </tr>\n    <tr>\n      <th>...</th>\n      <td>...</td>\n      <td>...</td>\n      <td>...</td>\n      <td>...</td>\n    </tr>\n    <tr>\n      <th>995</th>\n      <td>996</td>\n      <td>Ágatha Ribeiro</td>\n      <td>F</td>\n      <td>2/8/1946</td>\n    </tr>\n    <tr>\n      <th>996</th>\n      <td>997</td>\n      <td>Laura Oliveira</td>\n      <td>F</td>\n      <td>6/15/1979</td>\n    </tr>\n    <tr>\n      <th>997</th>\n      <td>998</td>\n      <td>Lara Oliveira</td>\n      <td>F</td>\n      <td>3/15/1946</td>\n    </tr>\n    <tr>\n      <th>998</th>\n      <td>999</td>\n      <td>Julian Cunha</td>\n      <td>M</td>\n      <td>6/20/1994</td>\n    </tr>\n    <tr>\n      <th>999</th>\n      <td>1000</td>\n      <td>Gustavo Barbosa</td>\n      <td>M</td>\n      <td>12/30/1975</td>\n    </tr>\n  </tbody>\n</table>\n<p>1000 rows × 4 columns</p>\n</div>"
     },
     "metadata": {},
     "execution_count": 13
    }
   ],
   "source": [
    "df_clients_from_csv = pd.read_csv('./csv/case_clients.csv', sep=';')\n",
    "df_clients_from_csv"
   ]
  },
  {
   "cell_type": "code",
   "execution_count": null,
   "metadata": {},
   "outputs": [],
   "source": []
  }
 ]
}