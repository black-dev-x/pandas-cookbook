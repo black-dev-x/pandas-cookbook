{
 "metadata": {
  "language_info": {
   "codemirror_mode": {
    "name": "ipython",
    "version": 3
   },
   "file_extension": ".py",
   "mimetype": "text/x-python",
   "name": "python",
   "nbconvert_exporter": "python",
   "pygments_lexer": "ipython3",
   "version": "3.9.0-final"
  },
  "orig_nbformat": 2,
  "kernelspec": {
   "name": "python390jvsc74a57bd063fd5069d213b44bf678585dea6b12cceca9941eaf7f819626cde1f2670de90d",
   "display_name": "Python 3.9.0 64-bit"
  }
 },
 "nbformat": 4,
 "nbformat_minor": 2,
 "cells": [
  {
   "source": [
    "# Idioms\n"
   ],
   "cell_type": "markdown",
   "metadata": {}
  },
  {
   "cell_type": "code",
   "execution_count": 1,
   "metadata": {},
   "outputs": [
    {
     "output_type": "execute_result",
     "data": {
      "text/plain": [
       "   columnA  columnB  columnC\n",
       "0        4       10      100\n",
       "1        5       20       50\n",
       "2        6       30      -30\n",
       "3        7       40      -50"
      ],
      "text/html": "<div>\n<style scoped>\n    .dataframe tbody tr th:only-of-type {\n        vertical-align: middle;\n    }\n\n    .dataframe tbody tr th {\n        vertical-align: top;\n    }\n\n    .dataframe thead th {\n        text-align: right;\n    }\n</style>\n<table border=\"1\" class=\"dataframe\">\n  <thead>\n    <tr style=\"text-align: right;\">\n      <th></th>\n      <th>columnA</th>\n      <th>columnB</th>\n      <th>columnC</th>\n    </tr>\n  </thead>\n  <tbody>\n    <tr>\n      <th>0</th>\n      <td>4</td>\n      <td>10</td>\n      <td>100</td>\n    </tr>\n    <tr>\n      <th>1</th>\n      <td>5</td>\n      <td>20</td>\n      <td>50</td>\n    </tr>\n    <tr>\n      <th>2</th>\n      <td>6</td>\n      <td>30</td>\n      <td>-30</td>\n    </tr>\n    <tr>\n      <th>3</th>\n      <td>7</td>\n      <td>40</td>\n      <td>-50</td>\n    </tr>\n  </tbody>\n</table>\n</div>"
     },
     "metadata": {},
     "execution_count": 1
    }
   ],
   "source": [
    "import pandas as pd\n",
    "import numpy as np\n",
    "\n",
    "data = {\"columnA\": [4, 5, 6, 7], \"columnB\": [10, 20, 30, 40], \"columnC\": [100, 50, -30, -50]}\n",
    "df = pd.DataFrame(data)\n",
    "df"
   ]
  },
  {
   "cell_type": "code",
   "execution_count": 2,
   "metadata": {},
   "outputs": [
    {
     "output_type": "execute_result",
     "data": {
      "text/plain": [
       "   columnA  columnB  columnC\n",
       "0        4       10      100\n",
       "1        5       -1       50\n",
       "2        6       -1      -30\n",
       "3        7       -1      -50"
      ],
      "text/html": "<div>\n<style scoped>\n    .dataframe tbody tr th:only-of-type {\n        vertical-align: middle;\n    }\n\n    .dataframe tbody tr th {\n        vertical-align: top;\n    }\n\n    .dataframe thead th {\n        text-align: right;\n    }\n</style>\n<table border=\"1\" class=\"dataframe\">\n  <thead>\n    <tr style=\"text-align: right;\">\n      <th></th>\n      <th>columnA</th>\n      <th>columnB</th>\n      <th>columnC</th>\n    </tr>\n  </thead>\n  <tbody>\n    <tr>\n      <th>0</th>\n      <td>4</td>\n      <td>10</td>\n      <td>100</td>\n    </tr>\n    <tr>\n      <th>1</th>\n      <td>5</td>\n      <td>-1</td>\n      <td>50</td>\n    </tr>\n    <tr>\n      <th>2</th>\n      <td>6</td>\n      <td>-1</td>\n      <td>-30</td>\n    </tr>\n    <tr>\n      <th>3</th>\n      <td>7</td>\n      <td>-1</td>\n      <td>-50</td>\n    </tr>\n  </tbody>\n</table>\n</div>"
     },
     "metadata": {},
     "execution_count": 2
    }
   ],
   "source": [
    "df.loc[df.columnA >= 5, \"columnB\"] = -1\n",
    "df"
   ]
  },
  {
   "source": [
    "df.loc[df.columnA >= 5, [\"columnB\",\"columnC\"]] = 555\n",
    "df"
   ],
   "cell_type": "code",
   "metadata": {},
   "execution_count": 3,
   "outputs": [
    {
     "output_type": "execute_result",
     "data": {
      "text/plain": [
       "   columnA  columnB  columnC\n",
       "0        4       10      100\n",
       "1        5      555      555\n",
       "2        6      555      555\n",
       "3        7      555      555"
      ],
      "text/html": "<div>\n<style scoped>\n    .dataframe tbody tr th:only-of-type {\n        vertical-align: middle;\n    }\n\n    .dataframe tbody tr th {\n        vertical-align: top;\n    }\n\n    .dataframe thead th {\n        text-align: right;\n    }\n</style>\n<table border=\"1\" class=\"dataframe\">\n  <thead>\n    <tr style=\"text-align: right;\">\n      <th></th>\n      <th>columnA</th>\n      <th>columnB</th>\n      <th>columnC</th>\n    </tr>\n  </thead>\n  <tbody>\n    <tr>\n      <th>0</th>\n      <td>4</td>\n      <td>10</td>\n      <td>100</td>\n    </tr>\n    <tr>\n      <th>1</th>\n      <td>5</td>\n      <td>555</td>\n      <td>555</td>\n    </tr>\n    <tr>\n      <th>2</th>\n      <td>6</td>\n      <td>555</td>\n      <td>555</td>\n    </tr>\n    <tr>\n      <th>3</th>\n      <td>7</td>\n      <td>555</td>\n      <td>555</td>\n    </tr>\n  </tbody>\n</table>\n</div>"
     },
     "metadata": {},
     "execution_count": 3
    }
   ]
  },
  {
   "cell_type": "code",
   "execution_count": 4,
   "metadata": {},
   "outputs": [
    {
     "output_type": "execute_result",
     "data": {
      "text/plain": [
       "   columnA  columnB  columnC\n",
       "0        4     2000     2000\n",
       "1        5      555      555\n",
       "2        6      555      555\n",
       "3        7      555      555"
      ],
      "text/html": "<div>\n<style scoped>\n    .dataframe tbody tr th:only-of-type {\n        vertical-align: middle;\n    }\n\n    .dataframe tbody tr th {\n        vertical-align: top;\n    }\n\n    .dataframe thead th {\n        text-align: right;\n    }\n</style>\n<table border=\"1\" class=\"dataframe\">\n  <thead>\n    <tr style=\"text-align: right;\">\n      <th></th>\n      <th>columnA</th>\n      <th>columnB</th>\n      <th>columnC</th>\n    </tr>\n  </thead>\n  <tbody>\n    <tr>\n      <th>0</th>\n      <td>4</td>\n      <td>2000</td>\n      <td>2000</td>\n    </tr>\n    <tr>\n      <th>1</th>\n      <td>5</td>\n      <td>555</td>\n      <td>555</td>\n    </tr>\n    <tr>\n      <th>2</th>\n      <td>6</td>\n      <td>555</td>\n      <td>555</td>\n    </tr>\n    <tr>\n      <th>3</th>\n      <td>7</td>\n      <td>555</td>\n      <td>555</td>\n    </tr>\n  </tbody>\n</table>\n</div>"
     },
     "metadata": {},
     "execution_count": 4
    }
   ],
   "source": [
    "df.loc[df.columnA < 5, [\"columnB\", \"columnC\"]] = 2000\n",
    "df"
   ]
  },
  {
   "cell_type": "code",
   "execution_count": 5,
   "metadata": {},
   "outputs": [
    {
     "output_type": "execute_result",
     "data": {
      "text/plain": [
       "   columnA  columnB  columnC\n",
       "0        4    -1000     2000\n",
       "1        5    -1000    -1000\n",
       "2        6    -1000      555\n",
       "3        7    -1000    -1000"
      ],
      "text/html": "<div>\n<style scoped>\n    .dataframe tbody tr th:only-of-type {\n        vertical-align: middle;\n    }\n\n    .dataframe tbody tr th {\n        vertical-align: top;\n    }\n\n    .dataframe thead th {\n        text-align: right;\n    }\n</style>\n<table border=\"1\" class=\"dataframe\">\n  <thead>\n    <tr style=\"text-align: right;\">\n      <th></th>\n      <th>columnA</th>\n      <th>columnB</th>\n      <th>columnC</th>\n    </tr>\n  </thead>\n  <tbody>\n    <tr>\n      <th>0</th>\n      <td>4</td>\n      <td>-1000</td>\n      <td>2000</td>\n    </tr>\n    <tr>\n      <th>1</th>\n      <td>5</td>\n      <td>-1000</td>\n      <td>-1000</td>\n    </tr>\n    <tr>\n      <th>2</th>\n      <td>6</td>\n      <td>-1000</td>\n      <td>555</td>\n    </tr>\n    <tr>\n      <th>3</th>\n      <td>7</td>\n      <td>-1000</td>\n      <td>-1000</td>\n    </tr>\n  </tbody>\n</table>\n</div>"
     },
     "metadata": {},
     "execution_count": 5
    }
   ],
   "source": [
    "df_mask = pd.DataFrame({\"columnA\": [True] * 4, \"columnB\": [False] * 4, \"columnC\": [True, False] * 2})\n",
    "df.where(df_mask, -1000)"
   ]
  },
  {
   "cell_type": "code",
   "execution_count": 6,
   "metadata": {},
   "outputs": [
    {
     "output_type": "execute_result",
     "data": {
      "text/plain": [
       "   columnA  columnB  columnC\n",
       "0        4       10      100\n",
       "1        5       20       50\n",
       "2        6       30      -30\n",
       "3        7       40      -50"
      ],
      "text/html": "<div>\n<style scoped>\n    .dataframe tbody tr th:only-of-type {\n        vertical-align: middle;\n    }\n\n    .dataframe tbody tr th {\n        vertical-align: top;\n    }\n\n    .dataframe thead th {\n        text-align: right;\n    }\n</style>\n<table border=\"1\" class=\"dataframe\">\n  <thead>\n    <tr style=\"text-align: right;\">\n      <th></th>\n      <th>columnA</th>\n      <th>columnB</th>\n      <th>columnC</th>\n    </tr>\n  </thead>\n  <tbody>\n    <tr>\n      <th>0</th>\n      <td>4</td>\n      <td>10</td>\n      <td>100</td>\n    </tr>\n    <tr>\n      <th>1</th>\n      <td>5</td>\n      <td>20</td>\n      <td>50</td>\n    </tr>\n    <tr>\n      <th>2</th>\n      <td>6</td>\n      <td>30</td>\n      <td>-30</td>\n    </tr>\n    <tr>\n      <th>3</th>\n      <td>7</td>\n      <td>40</td>\n      <td>-50</td>\n    </tr>\n  </tbody>\n</table>\n</div>"
     },
     "metadata": {},
     "execution_count": 6
    }
   ],
   "source": [
    "df = pd.DataFrame(data)\n",
    "df"
   ]
  },
  {
   "cell_type": "code",
   "execution_count": 7,
   "metadata": {},
   "outputs": [
    {
     "output_type": "execute_result",
     "data": {
      "text/plain": [
       "   columnA  columnB  columnC logic\n",
       "0        4       10      100   low\n",
       "1        5       20       50   low\n",
       "2        6       30      -30  high\n",
       "3        7       40      -50  high"
      ],
      "text/html": "<div>\n<style scoped>\n    .dataframe tbody tr th:only-of-type {\n        vertical-align: middle;\n    }\n\n    .dataframe tbody tr th {\n        vertical-align: top;\n    }\n\n    .dataframe thead th {\n        text-align: right;\n    }\n</style>\n<table border=\"1\" class=\"dataframe\">\n  <thead>\n    <tr style=\"text-align: right;\">\n      <th></th>\n      <th>columnA</th>\n      <th>columnB</th>\n      <th>columnC</th>\n      <th>logic</th>\n    </tr>\n  </thead>\n  <tbody>\n    <tr>\n      <th>0</th>\n      <td>4</td>\n      <td>10</td>\n      <td>100</td>\n      <td>low</td>\n    </tr>\n    <tr>\n      <th>1</th>\n      <td>5</td>\n      <td>20</td>\n      <td>50</td>\n      <td>low</td>\n    </tr>\n    <tr>\n      <th>2</th>\n      <td>6</td>\n      <td>30</td>\n      <td>-30</td>\n      <td>high</td>\n    </tr>\n    <tr>\n      <th>3</th>\n      <td>7</td>\n      <td>40</td>\n      <td>-50</td>\n      <td>high</td>\n    </tr>\n  </tbody>\n</table>\n</div>"
     },
     "metadata": {},
     "execution_count": 7
    }
   ],
   "source": [
    "df['logic'] = np.where(df['columnA'] > 5, 'high', 'low')\n",
    "df"
   ]
  },
  {
   "cell_type": "code",
   "execution_count": 8,
   "metadata": {},
   "outputs": [
    {
     "output_type": "execute_result",
     "data": {
      "text/plain": [
       "   columnA  columnB  columnC\n",
       "0        4       10      100\n",
       "1        5       20       50"
      ],
      "text/html": "<div>\n<style scoped>\n    .dataframe tbody tr th:only-of-type {\n        vertical-align: middle;\n    }\n\n    .dataframe tbody tr th {\n        vertical-align: top;\n    }\n\n    .dataframe thead th {\n        text-align: right;\n    }\n</style>\n<table border=\"1\" class=\"dataframe\">\n  <thead>\n    <tr style=\"text-align: right;\">\n      <th></th>\n      <th>columnA</th>\n      <th>columnB</th>\n      <th>columnC</th>\n    </tr>\n  </thead>\n  <tbody>\n    <tr>\n      <th>0</th>\n      <td>4</td>\n      <td>10</td>\n      <td>100</td>\n    </tr>\n    <tr>\n      <th>1</th>\n      <td>5</td>\n      <td>20</td>\n      <td>50</td>\n    </tr>\n  </tbody>\n</table>\n</div>"
     },
     "metadata": {},
     "execution_count": 8
    }
   ],
   "source": [
    "df = pd.DataFrame(data)\n",
    "df[df.columnA <= 5]"
   ]
  },
  {
   "cell_type": "code",
   "execution_count": 9,
   "metadata": {},
   "outputs": [
    {
     "output_type": "execute_result",
     "data": {
      "text/plain": [
       "   columnA  columnB  columnC\n",
       "2        6       30      -30\n",
       "3        7       40      -50"
      ],
      "text/html": "<div>\n<style scoped>\n    .dataframe tbody tr th:only-of-type {\n        vertical-align: middle;\n    }\n\n    .dataframe tbody tr th {\n        vertical-align: top;\n    }\n\n    .dataframe thead th {\n        text-align: right;\n    }\n</style>\n<table border=\"1\" class=\"dataframe\">\n  <thead>\n    <tr style=\"text-align: right;\">\n      <th></th>\n      <th>columnA</th>\n      <th>columnB</th>\n      <th>columnC</th>\n    </tr>\n  </thead>\n  <tbody>\n    <tr>\n      <th>2</th>\n      <td>6</td>\n      <td>30</td>\n      <td>-30</td>\n    </tr>\n    <tr>\n      <th>3</th>\n      <td>7</td>\n      <td>40</td>\n      <td>-50</td>\n    </tr>\n  </tbody>\n</table>\n</div>"
     },
     "metadata": {},
     "execution_count": 9
    }
   ],
   "source": [
    "df[df.columnA > 5]"
   ]
  },
  {
   "cell_type": "code",
   "execution_count": 10,
   "metadata": {},
   "outputs": [
    {
     "output_type": "execute_result",
     "data": {
      "text/plain": [
       "0    4\n",
       "1    5\n",
       "Name: columnA, dtype: int64"
      ]
     },
     "metadata": {},
     "execution_count": 10
    }
   ],
   "source": [
    "df = pd.DataFrame(data)\n",
    "df.loc[(df['columnB'] < 25) & (df['columnC'] >= -40), 'columnA']"
   ]
  },
  {
   "cell_type": "code",
   "execution_count": 11,
   "metadata": {},
   "outputs": [
    {
     "output_type": "execute_result",
     "data": {
      "text/plain": [
       "0    4\n",
       "1    5\n",
       "2    6\n",
       "Name: columnA, dtype: int64"
      ]
     },
     "metadata": {},
     "execution_count": 11
    }
   ],
   "source": [
    "df.loc[(df['columnB'] < 25) | (df['columnC'] >= -40), 'columnA']"
   ]
  },
  {
   "cell_type": "code",
   "execution_count": 12,
   "metadata": {},
   "outputs": [
    {
     "output_type": "execute_result",
     "data": {
      "text/plain": [
       "   columnA  columnB  columnC\n",
       "0      0.1       10      100\n",
       "1      5.0       20       50\n",
       "2      0.1       30      -30\n",
       "3      0.1       40      -50"
      ],
      "text/html": "<div>\n<style scoped>\n    .dataframe tbody tr th:only-of-type {\n        vertical-align: middle;\n    }\n\n    .dataframe tbody tr th {\n        vertical-align: top;\n    }\n\n    .dataframe thead th {\n        text-align: right;\n    }\n</style>\n<table border=\"1\" class=\"dataframe\">\n  <thead>\n    <tr style=\"text-align: right;\">\n      <th></th>\n      <th>columnA</th>\n      <th>columnB</th>\n      <th>columnC</th>\n    </tr>\n  </thead>\n  <tbody>\n    <tr>\n      <th>0</th>\n      <td>0.1</td>\n      <td>10</td>\n      <td>100</td>\n    </tr>\n    <tr>\n      <th>1</th>\n      <td>5.0</td>\n      <td>20</td>\n      <td>50</td>\n    </tr>\n    <tr>\n      <th>2</th>\n      <td>0.1</td>\n      <td>30</td>\n      <td>-30</td>\n    </tr>\n    <tr>\n      <th>3</th>\n      <td>0.1</td>\n      <td>40</td>\n      <td>-50</td>\n    </tr>\n  </tbody>\n</table>\n</div>"
     },
     "metadata": {},
     "execution_count": 12
    }
   ],
   "source": [
    "df.loc[(df['columnB'] > 25) | (df['columnC'] >= 75), 'columnA'] = 0.1\n",
    "df"
   ]
  },
  {
   "cell_type": "code",
   "execution_count": 13,
   "metadata": {},
   "outputs": [
    {
     "output_type": "execute_result",
     "data": {
      "text/plain": [
       "   columnA  columnB  columnC\n",
       "1        5       20       50\n",
       "0        4       10      100\n",
       "2        6       30      -30\n",
       "3        7       40      -50"
      ],
      "text/html": "<div>\n<style scoped>\n    .dataframe tbody tr th:only-of-type {\n        vertical-align: middle;\n    }\n\n    .dataframe tbody tr th {\n        vertical-align: top;\n    }\n\n    .dataframe thead th {\n        text-align: right;\n    }\n</style>\n<table border=\"1\" class=\"dataframe\">\n  <thead>\n    <tr style=\"text-align: right;\">\n      <th></th>\n      <th>columnA</th>\n      <th>columnB</th>\n      <th>columnC</th>\n    </tr>\n  </thead>\n  <tbody>\n    <tr>\n      <th>1</th>\n      <td>5</td>\n      <td>20</td>\n      <td>50</td>\n    </tr>\n    <tr>\n      <th>0</th>\n      <td>4</td>\n      <td>10</td>\n      <td>100</td>\n    </tr>\n    <tr>\n      <th>2</th>\n      <td>6</td>\n      <td>30</td>\n      <td>-30</td>\n    </tr>\n    <tr>\n      <th>3</th>\n      <td>7</td>\n      <td>40</td>\n      <td>-50</td>\n    </tr>\n  </tbody>\n</table>\n</div>"
     },
     "metadata": {},
     "execution_count": 13
    }
   ],
   "source": [
    "df = pd.DataFrame(data)\n",
    "\n",
    "aValue = 43.0\n",
    "df.loc[(df.columnC - aValue).abs().argsort()]"
   ]
  },
  {
   "cell_type": "code",
   "execution_count": 14,
   "metadata": {},
   "outputs": [
    {
     "output_type": "execute_result",
     "data": {
      "text/plain": [
       "   columnA  columnB  columnC\n",
       "0        4       10      100"
      ],
      "text/html": "<div>\n<style scoped>\n    .dataframe tbody tr th:only-of-type {\n        vertical-align: middle;\n    }\n\n    .dataframe tbody tr th {\n        vertical-align: top;\n    }\n\n    .dataframe thead th {\n        text-align: right;\n    }\n</style>\n<table border=\"1\" class=\"dataframe\">\n  <thead>\n    <tr style=\"text-align: right;\">\n      <th></th>\n      <th>columnA</th>\n      <th>columnB</th>\n      <th>columnC</th>\n    </tr>\n  </thead>\n  <tbody>\n    <tr>\n      <th>0</th>\n      <td>4</td>\n      <td>10</td>\n      <td>100</td>\n    </tr>\n  </tbody>\n</table>\n</div>"
     },
     "metadata": {},
     "execution_count": 14
    }
   ],
   "source": [
    "df = pd.DataFrame(data)\n",
    "Crit1 = df.columnA <= 5.5\n",
    "Crit2 = df.columnB == 10.0\n",
    "Crit3 = df.columnC > -40.0\n",
    "\n",
    "AllCrit = Crit1 & Crit2 & Crit3\n",
    "df[AllCrit]"
   ]
  },
  {
   "cell_type": "code",
   "execution_count": 15,
   "metadata": {},
   "outputs": [
    {
     "output_type": "execute_result",
     "data": {
      "text/plain": [
       "     columnA  columnB  columnC\n",
       "foo        4       10      100\n",
       "bar        5       20       50\n",
       "boo        6       30      -30\n",
       "kar        7       40      -50"
      ],
      "text/html": "<div>\n<style scoped>\n    .dataframe tbody tr th:only-of-type {\n        vertical-align: middle;\n    }\n\n    .dataframe tbody tr th {\n        vertical-align: top;\n    }\n\n    .dataframe thead th {\n        text-align: right;\n    }\n</style>\n<table border=\"1\" class=\"dataframe\">\n  <thead>\n    <tr style=\"text-align: right;\">\n      <th></th>\n      <th>columnA</th>\n      <th>columnB</th>\n      <th>columnC</th>\n    </tr>\n  </thead>\n  <tbody>\n    <tr>\n      <th>foo</th>\n      <td>4</td>\n      <td>10</td>\n      <td>100</td>\n    </tr>\n    <tr>\n      <th>bar</th>\n      <td>5</td>\n      <td>20</td>\n      <td>50</td>\n    </tr>\n    <tr>\n      <th>boo</th>\n      <td>6</td>\n      <td>30</td>\n      <td>-30</td>\n    </tr>\n    <tr>\n      <th>kar</th>\n      <td>7</td>\n      <td>40</td>\n      <td>-50</td>\n    </tr>\n  </tbody>\n</table>\n</div>"
     },
     "metadata": {},
     "execution_count": 15
    }
   ],
   "source": [
    "def build():\n",
    "    data = {\"columnA\": [4, 5, 6, 7], \"columnB\": [10, 20, 30, 40], \"columnC\": [100, 50, -30, -50]}\n",
    "    return pd.DataFrame(data)\n",
    "\n",
    "df = build()\n",
    "\n",
    "df[(df.columnA <= 6) & (df.index.isin([0,2,4]))]\n",
    "\n",
    "df = pd.DataFrame(data, index=['foo','bar','boo','kar'])\n",
    "df"
   ]
  },
  {
   "cell_type": "code",
   "execution_count": 16,
   "metadata": {},
   "outputs": [
    {
     "output_type": "execute_result",
     "data": {
      "text/plain": [
       "     columnA  columnB  columnC\n",
       "bar        5       20       50\n",
       "boo        6       30      -30\n",
       "kar        7       40      -50"
      ],
      "text/html": "<div>\n<style scoped>\n    .dataframe tbody tr th:only-of-type {\n        vertical-align: middle;\n    }\n\n    .dataframe tbody tr th {\n        vertical-align: top;\n    }\n\n    .dataframe thead th {\n        text-align: right;\n    }\n</style>\n<table border=\"1\" class=\"dataframe\">\n  <thead>\n    <tr style=\"text-align: right;\">\n      <th></th>\n      <th>columnA</th>\n      <th>columnB</th>\n      <th>columnC</th>\n    </tr>\n  </thead>\n  <tbody>\n    <tr>\n      <th>bar</th>\n      <td>5</td>\n      <td>20</td>\n      <td>50</td>\n    </tr>\n    <tr>\n      <th>boo</th>\n      <td>6</td>\n      <td>30</td>\n      <td>-30</td>\n    </tr>\n    <tr>\n      <th>kar</th>\n      <td>7</td>\n      <td>40</td>\n      <td>-50</td>\n    </tr>\n  </tbody>\n</table>\n</div>"
     },
     "metadata": {},
     "execution_count": 16
    }
   ],
   "source": [
    "df.loc['bar':'kar']"
   ]
  },
  {
   "cell_type": "code",
   "execution_count": 17,
   "metadata": {},
   "outputs": [
    {
     "output_type": "execute_result",
     "data": {
      "text/plain": [
       "     columnA  columnB  columnC\n",
       "foo        4       10      100\n",
       "bar        5       20       50\n",
       "boo        6       30      -30"
      ],
      "text/html": "<div>\n<style scoped>\n    .dataframe tbody tr th:only-of-type {\n        vertical-align: middle;\n    }\n\n    .dataframe tbody tr th {\n        vertical-align: top;\n    }\n\n    .dataframe thead th {\n        text-align: right;\n    }\n</style>\n<table border=\"1\" class=\"dataframe\">\n  <thead>\n    <tr style=\"text-align: right;\">\n      <th></th>\n      <th>columnA</th>\n      <th>columnB</th>\n      <th>columnC</th>\n    </tr>\n  </thead>\n  <tbody>\n    <tr>\n      <th>foo</th>\n      <td>4</td>\n      <td>10</td>\n      <td>100</td>\n    </tr>\n    <tr>\n      <th>bar</th>\n      <td>5</td>\n      <td>20</td>\n      <td>50</td>\n    </tr>\n    <tr>\n      <th>boo</th>\n      <td>6</td>\n      <td>30</td>\n      <td>-30</td>\n    </tr>\n  </tbody>\n</table>\n</div>"
     },
     "metadata": {},
     "execution_count": 17
    }
   ],
   "source": [
    "df[0:3]"
   ]
  },
  {
   "cell_type": "code",
   "execution_count": 18,
   "metadata": {},
   "outputs": [
    {
     "output_type": "execute_result",
     "data": {
      "text/plain": [
       "     columnA  columnB  columnC\n",
       "bar        5       20       50\n",
       "boo        6       30      -30\n",
       "kar        7       40      -50"
      ],
      "text/html": "<div>\n<style scoped>\n    .dataframe tbody tr th:only-of-type {\n        vertical-align: middle;\n    }\n\n    .dataframe tbody tr th {\n        vertical-align: top;\n    }\n\n    .dataframe thead th {\n        text-align: right;\n    }\n</style>\n<table border=\"1\" class=\"dataframe\">\n  <thead>\n    <tr style=\"text-align: right;\">\n      <th></th>\n      <th>columnA</th>\n      <th>columnB</th>\n      <th>columnC</th>\n    </tr>\n  </thead>\n  <tbody>\n    <tr>\n      <th>bar</th>\n      <td>5</td>\n      <td>20</td>\n      <td>50</td>\n    </tr>\n    <tr>\n      <th>boo</th>\n      <td>6</td>\n      <td>30</td>\n      <td>-30</td>\n    </tr>\n    <tr>\n      <th>kar</th>\n      <td>7</td>\n      <td>40</td>\n      <td>-50</td>\n    </tr>\n  </tbody>\n</table>\n</div>"
     },
     "metadata": {},
     "execution_count": 18
    }
   ],
   "source": [
    "df['bar':'kar']"
   ]
  },
  {
   "cell_type": "code",
   "execution_count": 19,
   "metadata": {},
   "outputs": [
    {
     "output_type": "execute_result",
     "data": {
      "text/plain": [
       "   columnA  columnB  columnC\n",
       "2        5       20       50\n",
       "3        6       30      -30"
      ],
      "text/html": "<div>\n<style scoped>\n    .dataframe tbody tr th:only-of-type {\n        vertical-align: middle;\n    }\n\n    .dataframe tbody tr th {\n        vertical-align: top;\n    }\n\n    .dataframe thead th {\n        text-align: right;\n    }\n</style>\n<table border=\"1\" class=\"dataframe\">\n  <thead>\n    <tr style=\"text-align: right;\">\n      <th></th>\n      <th>columnA</th>\n      <th>columnB</th>\n      <th>columnC</th>\n    </tr>\n  </thead>\n  <tbody>\n    <tr>\n      <th>2</th>\n      <td>5</td>\n      <td>20</td>\n      <td>50</td>\n    </tr>\n    <tr>\n      <th>3</th>\n      <td>6</td>\n      <td>30</td>\n      <td>-30</td>\n    </tr>\n  </tbody>\n</table>\n</div>"
     },
     "metadata": {},
     "execution_count": 19
    }
   ],
   "source": [
    "df2 = pd.DataFrame(data, index=[1,2,3,4])\n",
    "df2.iloc[1:3]"
   ]
  },
  {
   "cell_type": "code",
   "execution_count": 20,
   "metadata": {},
   "outputs": [
    {
     "output_type": "execute_result",
     "data": {
      "text/plain": [
       "   columnA  columnB  columnC\n",
       "1        4       10      100\n",
       "2        5       20       50\n",
       "3        6       30      -30"
      ],
      "text/html": "<div>\n<style scoped>\n    .dataframe tbody tr th:only-of-type {\n        vertical-align: middle;\n    }\n\n    .dataframe tbody tr th {\n        vertical-align: top;\n    }\n\n    .dataframe thead th {\n        text-align: right;\n    }\n</style>\n<table border=\"1\" class=\"dataframe\">\n  <thead>\n    <tr style=\"text-align: right;\">\n      <th></th>\n      <th>columnA</th>\n      <th>columnB</th>\n      <th>columnC</th>\n    </tr>\n  </thead>\n  <tbody>\n    <tr>\n      <th>1</th>\n      <td>4</td>\n      <td>10</td>\n      <td>100</td>\n    </tr>\n    <tr>\n      <th>2</th>\n      <td>5</td>\n      <td>20</td>\n      <td>50</td>\n    </tr>\n    <tr>\n      <th>3</th>\n      <td>6</td>\n      <td>30</td>\n      <td>-30</td>\n    </tr>\n  </tbody>\n</table>\n</div>"
     },
     "metadata": {},
     "execution_count": 20
    }
   ],
   "source": [
    "df2.loc[1:3]"
   ]
  },
  {
   "cell_type": "code",
   "execution_count": 21,
   "metadata": {},
   "outputs": [
    {
     "output_type": "execute_result",
     "data": {
      "text/plain": [
       "   columnA  columnB  columnC\n",
       "1        5       20       50\n",
       "3        7       40      -50"
      ],
      "text/html": "<div>\n<style scoped>\n    .dataframe tbody tr th:only-of-type {\n        vertical-align: middle;\n    }\n\n    .dataframe tbody tr th {\n        vertical-align: top;\n    }\n\n    .dataframe thead th {\n        text-align: right;\n    }\n</style>\n<table border=\"1\" class=\"dataframe\">\n  <thead>\n    <tr style=\"text-align: right;\">\n      <th></th>\n      <th>columnA</th>\n      <th>columnB</th>\n      <th>columnC</th>\n    </tr>\n  </thead>\n  <tbody>\n    <tr>\n      <th>1</th>\n      <td>5</td>\n      <td>20</td>\n      <td>50</td>\n    </tr>\n    <tr>\n      <th>3</th>\n      <td>7</td>\n      <td>40</td>\n      <td>-50</td>\n    </tr>\n  </tbody>\n</table>\n</div>"
     },
     "metadata": {},
     "execution_count": 21
    }
   ],
   "source": [
    "df = build()\n",
    "df[~( (df.columnA <= 6) & (df.index.isin([0,2,4])) )]"
   ]
  },
  {
   "cell_type": "code",
   "execution_count": 23,
   "metadata": {},
   "outputs": [
    {
     "output_type": "stream",
     "name": "stdout",
     "text": [
      "<built-in method get of dict object at 0x000001FA7693A300>\n"
     ]
    },
    {
     "output_type": "execute_result",
     "data": {
      "text/plain": [
       "   a  b  c    a_cat  b_cat    c_cat\n",
       "0  1  1  2    Alpha  Alpha     Beta\n",
       "1  2  1  1     Beta  Alpha    Alpha\n",
       "2  1  2  3    Alpha   Beta  Charlie\n",
       "3  3  2  1  Charlie   Beta    Alpha"
      ],
      "text/html": "<div>\n<style scoped>\n    .dataframe tbody tr th:only-of-type {\n        vertical-align: middle;\n    }\n\n    .dataframe tbody tr th {\n        vertical-align: top;\n    }\n\n    .dataframe thead th {\n        text-align: right;\n    }\n</style>\n<table border=\"1\" class=\"dataframe\">\n  <thead>\n    <tr style=\"text-align: right;\">\n      <th></th>\n      <th>a</th>\n      <th>b</th>\n      <th>c</th>\n      <th>a_cat</th>\n      <th>b_cat</th>\n      <th>c_cat</th>\n    </tr>\n  </thead>\n  <tbody>\n    <tr>\n      <th>0</th>\n      <td>1</td>\n      <td>1</td>\n      <td>2</td>\n      <td>Alpha</td>\n      <td>Alpha</td>\n      <td>Beta</td>\n    </tr>\n    <tr>\n      <th>1</th>\n      <td>2</td>\n      <td>1</td>\n      <td>1</td>\n      <td>Beta</td>\n      <td>Alpha</td>\n      <td>Alpha</td>\n    </tr>\n    <tr>\n      <th>2</th>\n      <td>1</td>\n      <td>2</td>\n      <td>3</td>\n      <td>Alpha</td>\n      <td>Beta</td>\n      <td>Charlie</td>\n    </tr>\n    <tr>\n      <th>3</th>\n      <td>3</td>\n      <td>2</td>\n      <td>1</td>\n      <td>Charlie</td>\n      <td>Beta</td>\n      <td>Alpha</td>\n    </tr>\n  </tbody>\n</table>\n</div>"
     },
     "metadata": {},
     "execution_count": 23
    }
   ],
   "source": [
    "df = pd.DataFrame({\"a\": [1, 2, 1, 3], \"b\": [1, 1, 2, 2], \"c\": [2, 1, 3, 1]})\n",
    "source_cols = df.columns\n",
    "new_cols = [str(x) + \"_cat\" for x in source_cols]\n",
    "categories = {1:'Alpha',2:'Beta',3:'Charlie'}\n",
    "df[new_cols] = df[source_cols].applymap(categories.get)\n",
    "df"
   ]
  },
  {
   "cell_type": "code",
   "execution_count": 30,
   "metadata": {},
   "outputs": [
    {
     "output_type": "execute_result",
     "data": {
      "text/plain": [
       "   a  b\n",
       "1  1  1\n",
       "5  2  1\n",
       "6  3  2"
      ],
      "text/html": "<div>\n<style scoped>\n    .dataframe tbody tr th:only-of-type {\n        vertical-align: middle;\n    }\n\n    .dataframe tbody tr th {\n        vertical-align: top;\n    }\n\n    .dataframe thead th {\n        text-align: right;\n    }\n</style>\n<table border=\"1\" class=\"dataframe\">\n  <thead>\n    <tr style=\"text-align: right;\">\n      <th></th>\n      <th>a</th>\n      <th>b</th>\n    </tr>\n  </thead>\n  <tbody>\n    <tr>\n      <th>1</th>\n      <td>1</td>\n      <td>1</td>\n    </tr>\n    <tr>\n      <th>5</th>\n      <td>2</td>\n      <td>1</td>\n    </tr>\n    <tr>\n      <th>6</th>\n      <td>3</td>\n      <td>2</td>\n    </tr>\n  </tbody>\n</table>\n</div>"
     },
     "metadata": {},
     "execution_count": 30
    }
   ],
   "source": [
    "df = pd.DataFrame({\"a\": [1, 1, 1, 2, 2, 2, 3, 3], \"b\": [2, 1, 3, 4, 5, 1, 2, 3]})\n",
    "df.loc[df.groupby('a')['b'].idxmin()]"
   ]
  }
 ]
}